{
 "cells": [
  {
   "cell_type": "markdown",
   "metadata": {},
   "source": [
    "# Topic Modeling - Advanced (Customization )\n",
    "\n",
    "https://www.textrazor.com/tutorials"
   ]
  },
  {
   "cell_type": "code",
   "execution_count": 1,
   "metadata": {},
   "outputs": [],
   "source": [
    "import utils\n",
    "import pandas as pd\n",
    "import textrazor"
   ]
  },
  {
   "cell_type": "code",
   "execution_count": 2,
   "metadata": {},
   "outputs": [
    {
     "data": {
      "text/plain": [
       "(100, 14)"
      ]
     },
     "execution_count": 2,
     "metadata": {},
     "output_type": "execute_result"
    }
   ],
   "source": [
    "conn = utils.create_connection('../scraping538.db')\n",
    "query = \"SELECT * FROM ARTICLES_538 LIMIT 100\"\n",
    "articles_all = pd.read_sql(query, con=conn)\n",
    "to_analyze = articles_all['article_text'][0]\n",
    "\n",
    "articles_all.shape"
   ]
  },
  {
   "cell_type": "code",
   "execution_count": 3,
   "metadata": {},
   "outputs": [],
   "source": [
    "textrazor.api_key = 'fe398d3e3798693362b8be989459bb5fad9a391906fbbc1703bf3041'"
   ]
  },
  {
   "cell_type": "code",
   "execution_count": 4,
   "metadata": {},
   "outputs": [],
   "source": [
    "manager = textrazor.ClassifierManager()"
   ]
  },
  {
   "cell_type": "code",
   "execution_count": 16,
   "metadata": {},
   "outputs": [
    {
     "data": {
      "text/plain": [
       "'1,Golf,concept(\\'golf\\')\\n2,Tennis,concept(\\'tennis\\')\\n3,Squash,concept(\\'squash\\')\\n4,Cricket,concept(\\'cricket\\')\\n5,Soccer,\"or(concept(\\'soccer\\'),concept(\\'association football\\'))\"\\n6,American Football,\"or(concept(\\'super bowl\\'),concept(\\'NFL\\'),concept(\\'american football\\'))\"'"
      ]
     },
     "execution_count": 16,
     "metadata": {},
     "output_type": "execute_result"
    }
   ],
   "source": [
    "csv_contents = open(\"sports_classifier.csv\").read() #.decode(\"utf-8\")\n",
    "csv_contents"
   ]
  },
  {
   "cell_type": "code",
   "execution_count": 11,
   "metadata": {},
   "outputs": [],
   "source": [
    "manager.create_classifier_with_csv(\"my_sports\", csv_contents)"
   ]
  },
  {
   "cell_type": "code",
   "execution_count": 12,
   "metadata": {},
   "outputs": [],
   "source": [
    "client = textrazor.TextRazor()"
   ]
  },
  {
   "cell_type": "code",
   "execution_count": 13,
   "metadata": {},
   "outputs": [],
   "source": [
    "client.set_classifiers([\"my_sports\"])"
   ]
  },
  {
   "cell_type": "code",
   "execution_count": 14,
   "metadata": {},
   "outputs": [],
   "source": [
    "response = client.analyze(to_analyze)"
   ]
  },
  {
   "cell_type": "code",
   "execution_count": 15,
   "metadata": {},
   "outputs": [
    {
     "name": "stdout",
     "output_type": "stream",
     "text": [
      "6 American Football 0.4646\n",
      "5 Soccer 0.3677\n"
     ]
    }
   ],
   "source": [
    "for category in response.categories():\n",
    "    print(category.category_id, category.label, category.score)"
   ]
  },
  {
   "cell_type": "code",
   "execution_count": null,
   "metadata": {},
   "outputs": [],
   "source": []
  }
 ],
 "metadata": {
  "kernelspec": {
   "display_name": "Python 3",
   "language": "python",
   "name": "python3"
  },
  "language_info": {
   "codemirror_mode": {
    "name": "ipython",
    "version": 3
   },
   "file_extension": ".py",
   "mimetype": "text/x-python",
   "name": "python",
   "nbconvert_exporter": "python",
   "pygments_lexer": "ipython3",
   "version": "3.6.6"
  }
 },
 "nbformat": 4,
 "nbformat_minor": 2
}
