{
 "cells": [
  {
   "cell_type": "markdown",
   "metadata": {},
   "source": [
    "# LDA - Topic Modeling"
   ]
  },
  {
   "cell_type": "code",
   "execution_count": 12,
   "metadata": {},
   "outputs": [],
   "source": [
    "import utils\n",
    "import pandas as pd\n",
    "import nltk\n",
    "\n",
    "# nltk.download('brown')\n",
    "# nltk.download('punkt')\n",
    "\n",
    "from nltk.corpus import brown"
   ]
  },
  {
   "cell_type": "code",
   "execution_count": 28,
   "metadata": {},
   "outputs": [
    {
     "data": {
      "text/plain": [
       "(100, 14)"
      ]
     },
     "execution_count": 28,
     "metadata": {},
     "output_type": "execute_result"
    }
   ],
   "source": [
    "conn = utils.create_connection('../scraping538.db')\n",
    "query = \"SELECT * FROM ARTICLES_538 LIMIT 100\"\n",
    "articles_all = pd.read_sql(query, con=conn)\n",
    "\n",
    "articles_all.shape"
   ]
  },
  {
   "cell_type": "code",
   "execution_count": 29,
   "metadata": {},
   "outputs": [
    {
     "data": {
      "text/html": [
       "<div>\n",
       "<style scoped>\n",
       "    .dataframe tbody tr th:only-of-type {\n",
       "        vertical-align: middle;\n",
       "    }\n",
       "\n",
       "    .dataframe tbody tr th {\n",
       "        vertical-align: top;\n",
       "    }\n",
       "\n",
       "    .dataframe thead th {\n",
       "        text-align: right;\n",
       "    }\n",
       "</style>\n",
       "<table border=\"1\" class=\"dataframe\">\n",
       "  <thead>\n",
       "    <tr style=\"text-align: right;\">\n",
       "      <th></th>\n",
       "      <th>title</th>\n",
       "      <th>DATE</th>\n",
       "      <th>hour</th>\n",
       "      <th>DATE_HOUR</th>\n",
       "      <th>author</th>\n",
       "      <th>filed_under</th>\n",
       "      <th>article_text</th>\n",
       "      <th>mini_bio</th>\n",
       "      <th>url</th>\n",
       "      <th>project</th>\n",
       "      <th>spider</th>\n",
       "      <th>server</th>\n",
       "      <th>DATE_IMPORT</th>\n",
       "      <th>PK_ID</th>\n",
       "    </tr>\n",
       "  </thead>\n",
       "  <tbody>\n",
       "    <tr>\n",
       "      <th>0</th>\n",
       "      <td>Can The Warriors Still Win Without Curry? And ...</td>\n",
       "      <td>2019-10-31 00:00:00</td>\n",
       "      <td>2:08 PM</td>\n",
       "      <td>2019-10-31 14:08:00</td>\n",
       "      <td>Chris Herring</td>\n",
       "      <td>NBA</td>\n",
       "      <td>Just when you thought things couldn’t get any ...</td>\n",
       "      <td>Chris Herring is a senior sportswriter for Fiv...</td>\n",
       "      <td>https://fivethirtyeight.com/features/can-the-w...</td>\n",
       "      <td>scrapping_538</td>\n",
       "      <td>all_articles</td>\n",
       "      <td>mrmoe</td>\n",
       "      <td>2019-11-02 21:54:30.067303</td>\n",
       "      <td>31-10-2019_Can The Warriors Still Win Without ...</td>\n",
       "    </tr>\n",
       "    <tr>\n",
       "      <th>1</th>\n",
       "      <td>The Impeachment Inquiry Will Now Be Televised</td>\n",
       "      <td>2019-10-31 00:00:00</td>\n",
       "      <td>1:11 PM</td>\n",
       "      <td>2019-10-31 13:11:00</td>\n",
       "      <td>Clare Malone</td>\n",
       "      <td>The Spin Cycle</td>\n",
       "      <td>Welcome to The Spin Cycle, a semi-regular look...</td>\n",
       "      <td>Clare Malone is a senior political writer for ...</td>\n",
       "      <td>https://fivethirtyeight.com/features/the-impea...</td>\n",
       "      <td>scrapping_538</td>\n",
       "      <td>all_articles</td>\n",
       "      <td>mrmoe</td>\n",
       "      <td>2019-11-02 21:54:30.076293</td>\n",
       "      <td>31-10-2019_The Impeachment Inquiry Will Now Be...</td>\n",
       "    </tr>\n",
       "  </tbody>\n",
       "</table>\n",
       "</div>"
      ],
      "text/plain": [
       "                                               title                 DATE  \\\n",
       "0  Can The Warriors Still Win Without Curry? And ...  2019-10-31 00:00:00   \n",
       "1      The Impeachment Inquiry Will Now Be Televised  2019-10-31 00:00:00   \n",
       "\n",
       "      hour            DATE_HOUR         author     filed_under  \\\n",
       "0  2:08 PM  2019-10-31 14:08:00  Chris Herring             NBA   \n",
       "1  1:11 PM  2019-10-31 13:11:00   Clare Malone  The Spin Cycle   \n",
       "\n",
       "                                        article_text  \\\n",
       "0  Just when you thought things couldn’t get any ...   \n",
       "1  Welcome to The Spin Cycle, a semi-regular look...   \n",
       "\n",
       "                                            mini_bio  \\\n",
       "0  Chris Herring is a senior sportswriter for Fiv...   \n",
       "1  Clare Malone is a senior political writer for ...   \n",
       "\n",
       "                                                 url        project  \\\n",
       "0  https://fivethirtyeight.com/features/can-the-w...  scrapping_538   \n",
       "1  https://fivethirtyeight.com/features/the-impea...  scrapping_538   \n",
       "\n",
       "         spider server                 DATE_IMPORT  \\\n",
       "0  all_articles  mrmoe  2019-11-02 21:54:30.067303   \n",
       "1  all_articles  mrmoe  2019-11-02 21:54:30.076293   \n",
       "\n",
       "                                               PK_ID  \n",
       "0  31-10-2019_Can The Warriors Still Win Without ...  \n",
       "1  31-10-2019_The Impeachment Inquiry Will Now Be...  "
      ]
     },
     "execution_count": 29,
     "metadata": {},
     "output_type": "execute_result"
    }
   ],
   "source": [
    "articles_all.head(2)"
   ]
  },
  {
   "cell_type": "code",
   "execution_count": 30,
   "metadata": {},
   "outputs": [
    {
     "name": "stdout",
     "output_type": "stream",
     "text": [
      "100\n",
      "['Just when you thought things couldn’t get any worse for the Golden State Warriors — who had already been  on the wrong end of two blowouts  in their first week of play and were headed for a third on Wednesday — worse came crashing down onto the floor of the new Chase Center. \\n In the third quarter, Stephen Curry dribbled to his left in transition, preparing to go in for a layup, when Phoenix Suns center Aron Baynes slid in front of the airborne point guard, causing him to tumble. Baynes then fell down, too, with his weight coming down on Curry’s left hand. The superstar couldn’t move his hand and walked to the locker room, and shortly after running some tests, the Warriors  put out the news : Curry’s left hand was broken. He will be out for the foreseeable future. \\n \\n On the most basic level, the injury is devastating for a struggling team that, until very recently,  had it better than any other team  these past few seasons — largely because of Curry’s impact. But even now, in the wake of  yet another serious injury , there is reason for Golden State to have optimism. Aside from this being a  hand injury, as opposed to a foot or a leg one , it happened early enough that the Warriors can gauge whether it’s truly worthwhile  to make a concerted effort for a playoff spot . And if it isn’t, they can use the lottery pick they’ll get as a result of this wayward season. \\n So how hard should Golden State push ahead in Curry’s absence? All-Stars like Draymond Green and D’Angelo Russell are still there. Rotation pieces like  Willie Cauley-Stein and Alec Burks just rejoined  the lineup, while the Warriors hope that center Kevon Looney —  dealing with neuropathy  — can return to contribute at some point as well. \\n But the notion of the Warriors piecing things together without Curry is a difficult one. There is an  abundance of young, inexperienced players  in the rotation, with coach Steve Kerr repeatedly predicting growing pains. And the club, which already faced enormous pressure to score in bunches  because of how porous  the  Warriors’ last-ranked defense  has been, now faces the added challenge of trying to score without the game-breaking player who made its offense hum. \\n In losing Curry, the Warriors saw their  RAPTOR roster rating fall drastically  from the low 1600s (in the same range as contenders like the Los Angeles Lakers, Utah Jazz and L.A. Clippers) to a paltry rating of 1415, which leaves the three-time champions better than just five clubs: The Detroit Pistons (without  an injured Blake Griffin ), the Cleveland Cavaliers, the Atlanta Hawks (without an  injured Trae Young ), the Charlotte Hornets and the New York Knicks. \\n \\n \\n Steph’s timetable affects the Warriors’ playoff odds a lot \\n Projected 2019-20 wins and chance to make and advance in the playoffs for the Golden State Warriors, depending on the length of Stephen Curry’s absence \\n \\n \\n \\n \\n \\n warriors’ Chance to… \\n \\n \\n if Curry misses… \\n warriors’ Proj. Wins \\n Make Playoffs \\n Make Finals \\n Win Finals \\n \\n \\n \\n \\n No time \\n 46.7 \\n 68% \\n 7% \\n 4% \\n \\n \\n 1 week \\n 46.1 \\n 65 \\n 7 \\n 4 \\n \\n \\n 2 weeks \\n 45.5 \\n 62 \\n 7 \\n 4 \\n \\n \\n 3 weeks \\n 44.5 \\n 55 \\n 6 \\n 4 \\n \\n \\n 4 weeks \\n 44.1 \\n 53 \\n 6 \\n 4 \\n \\n \\n 5 weeks \\n 43.6 \\n 51 \\n 6 \\n 4 \\n \\n \\n 6 weeks \\n 43.1 \\n 48 \\n 6 \\n 4 \\n \\n \\n 7 weeks \\n 42.6 \\n 46 \\n 6 \\n 4 \\n \\n \\n 8 weeks \\n 42.2 \\n 42 \\n 5 \\n 3 \\n \\n \\n \\n \\n Time missed assumes that Curry returns at full strength. Our model also assumes that shooting guard Klay Thompson will be back for the playoffs. \\n \\n \\n FiveThirtyEight’s NBA prediction model  still gives the Warriors a 54 percent chance to make the postseason, but that’s partly a function of not yet knowing how much time he’ll miss. Curry is expected to miss at least two weeks, but based on other players who have had similar injuries in recent years, 1  he could be out as long as two months. Our model aims to bridge that gap and account for both ends of the spectrum. \\n The model projects that Curry’s absence will cost the Warriors about one half win per week he misses. Based on that, the team’s probability of making the playoffs would likely fall beneath 50 percent after he misses five weeks of time, when Golden State is projected to finish with only 43 wins. \\n With all this in mind, don’t be surprised if, depending on how much time Curry is expected to miss, you hear speculation about Russell being traded, or about Green getting considerable rest.  The 1996-97 Spurs , who had picked up  121 wins in the two prior seasons , went 20-62 in the wake of a serious early-season injury to center David Robinson. Doing so landed them in the lottery, which they won, allowing San Antonio to draft someone named Tim Duncan. And in the 22 complete seasons since, the Spurs haven’t missed the playoffs. Even if Golden State owner  Joe Lacob dismisses the idea of bottoming out  for a year, there’s no doubt that being able to draft another potential star would be hugely beneficial to the Warriors, who have considerable money tied up in future years due to the  hefty contracts of Curry, Klay Thompson, Green and Russell . \\n This isn’t our way of saying a broken hand in October should end Curry’s season. If anything, it’s merely a suggestion that the Warriors — who also have shooting guard Thompson on the mend after  his ACL injury  — should feel no need to rush back either player for the sake of this season, which has gotten off to a pretty disastrous start. Depending on how Golden State comes out of this process, it could end up extending their dynasty in a way that none of us initially saw coming. \\n Neil Paine and Jay Boice contributed research. \\n Check out our latest  NBA predictions .']\n"
     ]
    }
   ],
   "source": [
    "data = []\n",
    " \n",
    "for article_id in articles_all.index:\n",
    "#     document = ' '.join(brown.words(fileid))\n",
    "    document = articles_all['article_text'][article_id]\n",
    "    data.append(document)\n",
    " \n",
    "NO_DOCUMENTS = len(data)\n",
    "print(NO_DOCUMENTS)\n",
    "print(data[:1])"
   ]
  },
  {
   "cell_type": "code",
   "execution_count": 31,
   "metadata": {},
   "outputs": [],
   "source": [
    "import re\n",
    "from gensim import models, corpora\n",
    "from nltk import word_tokenize\n",
    "from nltk.corpus import stopwords\n",
    " \n",
    "NUM_TOPICS = 10\n",
    "STOPWORDS = stopwords.words('english')\n",
    " \n",
    "def clean_text(text):\n",
    "    tokenized_text = word_tokenize(text.lower())\n",
    "    cleaned_text = [t for t in tokenized_text if t not in STOPWORDS and re.match('[a-zA-Z\\-][a-zA-Z\\-]{2,}', t)]\n",
    "    return cleaned_text\n",
    " \n",
    "# For gensim we need to tokenize the data and filter out stopwords\n",
    "tokenized_data = []\n",
    "for text in data:\n",
    "    tokenized_data.append(clean_text(text))\n",
    " \n",
    " \n",
    "# Build a Dictionary - association word to numeric id\n",
    "dictionary = corpora.Dictionary(tokenized_data)\n",
    " \n",
    "# Transform the collection of texts to a numerical form\n",
    "corpus = [dictionary.doc2bow(text) for text in tokenized_data]\n",
    " \n",
    "# Have a look at how the 20th document looks like: [(word_id, count), ...]\n",
    "# print(corpus[20])\n",
    "# [(12, 3), (14, 1), (21, 1), (25, 5), (30, 2), (31, 5), (33, 1), (42, 1), (43, 2),  ...\n",
    " \n",
    "# Build the LDA model\n",
    "lda_model = models.LdaModel(corpus=corpus, num_topics=NUM_TOPICS, id2word=dictionary)\n",
    " \n",
    "# Build the LSI model\n",
    "lsi_model = models.LsiModel(corpus=corpus, num_topics=NUM_TOPICS, id2word=dictionary)"
   ]
  },
  {
   "cell_type": "code",
   "execution_count": 32,
   "metadata": {},
   "outputs": [
    {
     "name": "stdout",
     "output_type": "stream",
     "text": [
      "LDA Model:\n",
      "Topic #0: 0.007*\"percent\" + 0.005*\"would\" + 0.005*\"week\" + 0.004*\"warren\" + 0.004*\"two\" + 0.004*\"new\" + 0.004*\"season\" + 0.003*\"team\" + 0.003*\"think\" + 0.003*\"one\"\n",
      "Topic #1: 0.010*\"percent\" + 0.004*\"raptor\" + 0.004*\"would\" + 0.004*\"voters\" + 0.004*\"season\" + 0.004*\"also\" + 0.004*\"think\" + 0.004*\"warren\" + 0.004*\"one\" + 0.003*\"team\"\n",
      "Topic #2: 0.014*\"percent\" + 0.005*\"raptor\" + 0.004*\"warren\" + 0.004*\"polls\" + 0.004*\"also\" + 0.004*\"season\" + 0.004*\"biden\" + 0.004*\"one\" + 0.003*\"points\" + 0.003*\"player\"\n",
      "Topic #3: 0.009*\"percent\" + 0.007*\"season\" + 0.005*\"would\" + 0.004*\"like\" + 0.004*\"one\" + 0.004*\"team\" + 0.004*\"could\" + 0.004*\"biden\" + 0.004*\"also\" + 0.004*\"warren\"\n",
      "Topic #4: 0.008*\"percent\" + 0.006*\"season\" + 0.005*\"teams\" + 0.005*\"team\" + 0.005*\"like\" + 0.004*\"raptor\" + 0.004*\"game\" + 0.004*\"one\" + 0.004*\"points\" + 0.004*\"two\"\n",
      "Topic #5: 0.007*\"warren\" + 0.005*\"democrats\" + 0.005*\"week\" + 0.005*\"percent\" + 0.005*\"biden\" + 0.004*\"trump\" + 0.004*\"think\" + 0.004*\"voters\" + 0.004*\"also\" + 0.004*\"one\"\n",
      "Topic #6: 0.008*\"percent\" + 0.005*\"season\" + 0.004*\"one\" + 0.004*\"warren\" + 0.004*\"game\" + 0.004*\"team\" + 0.004*\"raptor\" + 0.004*\"also\" + 0.004*\"candidates\" + 0.004*\"last\"\n",
      "Topic #7: 0.007*\"percent\" + 0.005*\"one\" + 0.005*\"warren\" + 0.005*\"debate\" + 0.004*\"polls\" + 0.004*\"also\" + 0.004*\"candidates\" + 0.004*\"like\" + 0.004*\"game\" + 0.004*\"party\"\n",
      "Topic #8: 0.006*\"percent\" + 0.005*\"trump\" + 0.004*\"even\" + 0.004*\"season\" + 0.004*\"new\" + 0.003*\"two\" + 0.003*\"debate\" + 0.003*\"like\" + 0.003*\"one\" + 0.003*\"biden\"\n",
      "Topic #9: 0.005*\"percent\" + 0.004*\"game\" + 0.004*\"season\" + 0.004*\"new\" + 0.004*\"one\" + 0.004*\"would\" + 0.004*\"team\" + 0.004*\"also\" + 0.003*\"teams\" + 0.003*\"points\"\n",
      "====================\n",
      "LSI Model:\n",
      "Topic #0: 0.354*\"raptor\" + 0.253*\"player\" + 0.192*\"players\" + 0.167*\"team\" + 0.146*\"offensive\" + 0.131*\"james\" + 0.131*\"defensive\" + 0.121*\"paul\" + 0.119*\"johnson\" + 0.118*\"points\"\n",
      "Topic #1: -0.365*\"percent\" + -0.229*\"warren\" + -0.210*\"biden\" + -0.168*\"polls\" + -0.154*\"think\" + -0.153*\"debate\" + -0.141*\"voters\" + -0.134*\"candidates\" + -0.126*\"sanders\" + -0.125*\"buttigieg\"\n",
      "Topic #2: -0.249*\"season\" + 0.243*\"warren\" + -0.224*\"game\" + 0.199*\"biden\" + -0.167*\"neil\" + -0.166*\"teams\" + -0.163*\"team\" + 0.158*\"debate\" + -0.155*\"week\" + 0.142*\"polls\"\n",
      "Topic #3: -0.588*\"percent\" + 0.247*\"think\" + 0.182*\"like\" + 0.177*\"neil\" + -0.175*\"trump\" + 0.171*\"natesilver\" + -0.123*\"impeachment\" + 0.120*\"warren\" + -0.108*\"poll\" + 0.106*\"really\"\n",
      "Topic #4: -0.338*\"trump\" + -0.331*\"impeachment\" + -0.272*\"democrats\" + -0.204*\"vote\" + -0.185*\"republicans\" + -0.183*\"president\" + 0.175*\"warren\" + -0.175*\"house\" + 0.145*\"biden\" + -0.138*\"think\"\n",
      "Topic #5: 0.225*\"raptor\" + -0.193*\"week\" + 0.181*\"players\" + -0.177*\"salfino\" + -0.130*\"sara.ziegler\" + -0.124*\"game\" + -0.119*\"neil\" + 0.118*\"nba\" + -0.118*\"green\" + -0.115*\"joshua.hermsmeyer\"\n",
      "Topic #6: -0.274*\"series\" + -0.226*\"world\" + -0.220*\"would\" + -0.191*\"yankees\" + -0.177*\"ootp\" + 0.155*\"points\" + 0.153*\"week\" + -0.132*\"strike\" + 0.117*\"salfino\" + -0.116*\"record\"\n",
      "Topic #7: 0.390*\"percent\" + 0.241*\"natesilver\" + -0.194*\"iowa\" + -0.167*\"democratic\" + -0.167*\"new\" + 0.165*\"neil\" + 0.157*\"chris.herring\" + -0.152*\"hampshire\" + -0.147*\"party\" + 0.144*\"think\"\n",
      "Topic #8: -0.374*\"iowa\" + -0.291*\"new\" + -0.273*\"hampshire\" + 0.221*\"debate\" + 0.172*\"candidates\" + -0.161*\"states\" + -0.160*\"natesilver\" + 0.158*\"debates\" + -0.108*\"state\" + -0.107*\"democratic\"\n",
      "Topic #9: -0.263*\"salfino\" + 0.240*\"state\" + -0.225*\"neil\" + -0.193*\"sara.ziegler\" + -0.170*\"joshua.hermsmeyer\" + 0.137*\"odds\" + 0.129*\"finals\" + 0.120*\"week\" + 0.110*\"nba\" + 0.110*\"riddler\"\n",
      "====================\n"
     ]
    }
   ],
   "source": [
    "print(\"LDA Model:\")\n",
    " \n",
    "for idx in range(NUM_TOPICS):\n",
    "    # Print the first 10 most representative topics\n",
    "    print(\"Topic #%s:\" % idx, lda_model.print_topic(idx, 10))\n",
    " \n",
    "print(\"=\" * 20)\n",
    " \n",
    "print(\"LSI Model:\")\n",
    " \n",
    "for idx in range(NUM_TOPICS):\n",
    "    # Print the first 10 most representative topics\n",
    "    print(\"Topic #%s:\" % idx, lsi_model.print_topic(idx, 10))\n",
    " \n",
    "print(\"=\" * 20)"
   ]
  },
  {
   "cell_type": "code",
   "execution_count": null,
   "metadata": {},
   "outputs": [],
   "source": []
  }
 ],
 "metadata": {
  "kernelspec": {
   "display_name": "Python 3",
   "language": "python",
   "name": "python3"
  },
  "language_info": {
   "codemirror_mode": {
    "name": "ipython",
    "version": 3
   },
   "file_extension": ".py",
   "mimetype": "text/x-python",
   "name": "python",
   "nbconvert_exporter": "python",
   "pygments_lexer": "ipython3",
   "version": "3.6.6"
  }
 },
 "nbformat": 4,
 "nbformat_minor": 2
}
