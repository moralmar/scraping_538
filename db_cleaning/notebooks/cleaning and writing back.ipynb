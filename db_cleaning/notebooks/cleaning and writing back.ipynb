{
 "cells": [
  {
   "cell_type": "markdown",
   "metadata": {},
   "source": [
    "# DB Cleaning\n",
    "\n",
    "Input: raw DB from scraper  \n",
    "Goal:  \n",
    "- clean all fields  \n",
    "- extract features  \n",
    "- write back to DB"
   ]
  },
  {
   "cell_type": "code",
   "execution_count": 1,
   "metadata": {},
   "outputs": [],
   "source": [
    "import sqlite3\n",
    "import pandas as pd"
   ]
  },
  {
   "cell_type": "code",
   "execution_count": 2,
   "metadata": {},
   "outputs": [],
   "source": [
    "def create_connection(db_file):\n",
    "    \"\"\" create a database connection to the SQLite database\n",
    "        specified by the db_file\n",
    "    :param db_file: database file\n",
    "    :return: Connection object or None\n",
    "    \"\"\"\n",
    "    conn = None\n",
    "    try:\n",
    "        conn = sqlite3.connect(db_file)\n",
    "    except Error as e:\n",
    "        print(e)\n",
    " \n",
    "    return conn"
   ]
  },
  {
   "cell_type": "markdown",
   "metadata": {},
   "source": [
    "# Clean all fields "
   ]
  },
  {
   "cell_type": "code",
   "execution_count": 3,
   "metadata": {},
   "outputs": [],
   "source": [
    "# INPUTS\n",
    "table_name = 'ARTICLES_538'\n",
    "staging_table = 'S_ARTICLES_538'"
   ]
  },
  {
   "cell_type": "code",
   "execution_count": 4,
   "metadata": {},
   "outputs": [
    {
     "data": {
      "text/html": [
       "<div>\n",
       "<style scoped>\n",
       "    .dataframe tbody tr th:only-of-type {\n",
       "        vertical-align: middle;\n",
       "    }\n",
       "\n",
       "    .dataframe tbody tr th {\n",
       "        vertical-align: top;\n",
       "    }\n",
       "\n",
       "    .dataframe thead th {\n",
       "        text-align: right;\n",
       "    }\n",
       "</style>\n",
       "<table border=\"1\" class=\"dataframe\">\n",
       "  <thead>\n",
       "    <tr style=\"text-align: right;\">\n",
       "      <th></th>\n",
       "      <th>title</th>\n",
       "      <th>DATE</th>\n",
       "      <th>hour</th>\n",
       "      <th>DATE_HOUR</th>\n",
       "      <th>author</th>\n",
       "      <th>filed_under</th>\n",
       "      <th>article_text</th>\n",
       "      <th>article_text_without_children</th>\n",
       "      <th>mini_bio</th>\n",
       "      <th>url</th>\n",
       "      <th>project</th>\n",
       "      <th>spider</th>\n",
       "      <th>server</th>\n",
       "      <th>DATE_IMPORT</th>\n",
       "      <th>PK_ID</th>\n",
       "      <th>new</th>\n",
       "    </tr>\n",
       "  </thead>\n",
       "  <tbody>\n",
       "    <tr>\n",
       "      <th>0</th>\n",
       "      <td>Why Even More Democrats Are Thinking About Ent...</td>\n",
       "      <td>2019-11-12</td>\n",
       "      <td>3:22 PM</td>\n",
       "      <td>2019-11-12 15:22:00</td>\n",
       "      <td>Perry Bacon Jr.</td>\n",
       "      <td>2020 Election</td>\n",
       "      <td>There have been a flurry of recent stories in ...</td>\n",
       "      <td>There have been a flurry of recent stories in ...</td>\n",
       "      <td>Perry Bacon Jr. is a senior writer for FiveThi...</td>\n",
       "      <td>https://fivethirtyeight.com/features/why-are-d...</td>\n",
       "      <td>scrapping_538</td>\n",
       "      <td>all_articles_from_one_page</td>\n",
       "      <td>mrmoe</td>\n",
       "      <td>2019-11-12 22:13:35.156587</td>\n",
       "      <td>12-11-2019_Why Even More Democrats Are Thinkin...</td>\n",
       "      <td>0</td>\n",
       "    </tr>\n",
       "    <tr>\n",
       "      <th>1</th>\n",
       "      <td>Want To Confuse An NBA Defense? Have A Guard S...</td>\n",
       "      <td>2019-11-12</td>\n",
       "      <td>2:58 PM</td>\n",
       "      <td>2019-11-12 14:58:00</td>\n",
       "      <td>Jared Dubin</td>\n",
       "      <td>NBA</td>\n",
       "      <td>Picture a pick and roll in your mind’s eye. Wh...</td>\n",
       "      <td>Picture a pick and roll in your mind’s eye. Wh...</td>\n",
       "      <td>Jared Dubin is a New York writer and lawyer. H...</td>\n",
       "      <td>https://fivethirtyeight.com/features/want-to-c...</td>\n",
       "      <td>scrapping_538</td>\n",
       "      <td>all_articles_from_one_page</td>\n",
       "      <td>mrmoe</td>\n",
       "      <td>2019-11-12 22:13:35.179565</td>\n",
       "      <td>12-11-2019_Want To Confuse An NBA Defense? Hav...</td>\n",
       "      <td>0</td>\n",
       "    </tr>\n",
       "  </tbody>\n",
       "</table>\n",
       "</div>"
      ],
      "text/plain": [
       "                                               title       DATE     hour  \\\n",
       "0  Why Even More Democrats Are Thinking About Ent... 2019-11-12  3:22 PM   \n",
       "1  Want To Confuse An NBA Defense? Have A Guard S... 2019-11-12  2:58 PM   \n",
       "\n",
       "            DATE_HOUR           author    filed_under  \\\n",
       "0 2019-11-12 15:22:00  Perry Bacon Jr.  2020 Election   \n",
       "1 2019-11-12 14:58:00      Jared Dubin            NBA   \n",
       "\n",
       "                                        article_text  \\\n",
       "0  There have been a flurry of recent stories in ...   \n",
       "1  Picture a pick and roll in your mind’s eye. Wh...   \n",
       "\n",
       "                       article_text_without_children  \\\n",
       "0  There have been a flurry of recent stories in ...   \n",
       "1  Picture a pick and roll in your mind’s eye. Wh...   \n",
       "\n",
       "                                            mini_bio  \\\n",
       "0  Perry Bacon Jr. is a senior writer for FiveThi...   \n",
       "1  Jared Dubin is a New York writer and lawyer. H...   \n",
       "\n",
       "                                                 url        project  \\\n",
       "0  https://fivethirtyeight.com/features/why-are-d...  scrapping_538   \n",
       "1  https://fivethirtyeight.com/features/want-to-c...  scrapping_538   \n",
       "\n",
       "                       spider server                DATE_IMPORT  \\\n",
       "0  all_articles_from_one_page  mrmoe 2019-11-12 22:13:35.156587   \n",
       "1  all_articles_from_one_page  mrmoe 2019-11-12 22:13:35.179565   \n",
       "\n",
       "                                               PK_ID  new  \n",
       "0  12-11-2019_Why Even More Democrats Are Thinkin...    0  \n",
       "1  12-11-2019_Want To Confuse An NBA Defense? Hav...    0  "
      ]
     },
     "execution_count": 4,
     "metadata": {},
     "output_type": "execute_result"
    }
   ],
   "source": [
    "conn = create_connection('../../scraping538.db')\n",
    "# data = pd.read_sql_query(\"SELECT * FROM TEST_TBL\", conn)\n",
    "query = \"SELECT * FROM \" + staging_table + \" WHERE PROCESSED = 0\"\n",
    "data = pd.read_sql(query, con=conn)\n",
    "data.drop(\"PROCESSED\", axis=1, inplace=True)\n",
    "# data.shape\n",
    "\n",
    "\n",
    "\n",
    "# date\n",
    "data['date'] = pd.to_datetime(data['date'])\n",
    "data.rename(columns={\"date\": \"DATE\"}, inplace=True)\n",
    "\n",
    "# date_hour\n",
    "# (you can have NaT)\n",
    "data['date_hour'] = data['date_hour'].str.replace('.','')\n",
    "data['date_hour'] = pd.to_datetime(data['date_hour'], \n",
    "                                   format='%b %d, %Y-%I:%M %p', \n",
    "                                   errors='coerce')\n",
    "data.rename(columns={\"date_hour\": \"DATE_HOUR\"}, inplace=True)\n",
    "\n",
    "# date_import\n",
    "data['date_import'] = pd.to_datetime(data['date_import'])\n",
    "data.rename(columns={\"date_import\": \"DATE_IMPORT\"}, inplace=True)\n",
    "\n",
    "# define PK\n",
    "data['PK_ID'] = data['DATE'].dt.strftime('%d-%m-%Y_') + data['title']\n",
    "\n",
    "data['TEXTRAZOR_JSON_SAVED'] = 0\n",
    "\n",
    "data.head(2)"
   ]
  },
  {
   "cell_type": "markdown",
   "metadata": {},
   "source": [
    "# Write back to DB - "
   ]
  },
  {
   "cell_type": "markdown",
   "metadata": {},
   "source": [
    "**Iteration** through each record and write to DB"
   ]
  },
  {
   "cell_type": "code",
   "execution_count": 5,
   "metadata": {},
   "outputs": [
    {
     "name": "stdout",
     "output_type": "stream",
     "text": [
      "*** IntegrityError  --   08-11-2019_How Seriously Should We Take Michael Bloomberg’s Potential 2020 Run?\n",
      "*** IntegrityError  --   11-11-2019_How To Improve The Conversation About Electability\n",
      "*** IntegrityError  --   11-11-2019_Running For President May Make You More Unpopular In Your Home State\n",
      "*** IntegrityError  --   11-11-2019_Jeff Sessions Might Struggle To Win Back His Old Senate Seat\n",
      "*** IntegrityError  --   11-11-2019_LeBron Is Great At Everything — Even Point Guard\n",
      "*** IntegrityError  --   08-11-2019_Championships Aren’t Won On Paper. But What If They Were?\n",
      "*** IntegrityError  --   11-11-2019_The Good, The Bad And The Weird Of NFL Week 10\n",
      "*** IntegrityError  --   07-11-2019_If Alabama Loses To LSU, Will It Actually Miss The Playoff?\n",
      "*** IntegrityError  --   07-11-2019_Who’s Up And Who’s Down In Our NBA Player Ratings\n",
      "*** IntegrityError  --   08-11-2019_Post-Debate Polls Show Sanders Solidly In Third\n",
      "*** IntegrityError  --   07-11-2019_The 7 Ways Impeachment Could Shape The 2020 Election\n",
      "*** IntegrityError  --   08-11-2019_How Many Ways Can You Raid The Candy Shop?\n",
      "*** IntegrityError  --   08-11-2019_What Virginia, Mississippi and Kentucky Can Tell Us About 2020\n",
      "*** IntegrityError  --   08-11-2019_Christian Pulisic Has Found A Home At Chelsea\n",
      "*** IntegrityError  --   08-11-2019_Icing The Play-Caller Really Doesn’t Work\n",
      "*** IntegrityError  --   07-11-2019_Warren’s Polls Have Leveled Off — At Least For Now\n",
      "*** IntegrityError  --   06-11-2019_A 2020 Dropout Draft: Who Will Leave Before The December Debate?\n",
      "*** IntegrityError  --   07-11-2019_Are Some Democratic Voters Reluctant To Support A Gay Candidate?\n",
      "*** IntegrityError  --   06-11-2019_The Nationals Went All In On Just A Few Great Pitchers. Will Others Do The Same?\n",
      "*** IntegrityError  --   07-11-2019_One (Last?) Candidate Qualifies For The November Debate\n",
      "*** IntegrityError  --   06-11-2019_There’s A Blueprint For Stopping Lamar Jackson, But Teams Aren’t Using It\n",
      "*** IntegrityError  --   06-11-2019_National Polls And State Polls Show Pretty Much The Same Thing\n",
      "*** IntegrityError  --   06-11-2019_Democrats Score Election Victories In Virginia And (Probably) Kentucky\n",
      "*** IntegrityError  --   05-11-2019_The State Of The Polls, 2019\n",
      "*** IntegrityError  --   05-11-2019_Minnesota Is Finally A Program To Reckon With\n",
      "*** IntegrityError  --   04-11-2019_Does A Great Player Make A Great Manager? The Mets Sure Hope So.\n",
      "*** IntegrityError  --   04-11-2019_Democrats Are Outraising Republicans In The Senate\n",
      "*** IntegrityError  --   04-11-2019_Happy Week 9 To The Ravens, The Chargers … And No One Else\n",
      "*** IntegrityError  --   05-11-2019_Everything You Need To Know About The 2019 Elections\n",
      "*** IntegrityError  --   05-11-2019_Draymond Green Is A Star, But Only In The Right System\n",
      "*** IntegrityError  --   01-11-2019_How Long Is The Snail’s Slimy Trail?\n",
      "*** IntegrityError  --   01-11-2019_Were The Best Umpires Behind The Plate During The Playoffs?\n",
      "*** IntegrityError  --   04-11-2019_How The 15 Percent Threshold For Primary Delegates Could Winnow The Field\n",
      "*** IntegrityError  --   01-11-2019_Why Beto O’Rourke’s Campaign Failed\n",
      "*** IntegrityError  --   01-11-2019_The Dolphins Threw Eight Players Into A Blitz. Were They Trying To Lose?\n",
      "*** IntegrityError  --   04-11-2019_The Constitution Doesn’t Give Presidents Any Protections During Impeachment\n",
      "*** IntegrityError  --   04-11-2019_The ACC Is A Weak Conference That Keeps Winning Championships\n",
      "*** IntegrityError  --   11-11-2019_Jeff Sessions Might Struggle To Win Back His Old Senate Seat\n",
      "*** IntegrityError  --   11-11-2019_Running For President May Make You More Unpopular In Your Home State\n",
      "*** IntegrityError  --   08-11-2019_How Seriously Should We Take Michael Bloomberg’s Potential 2020 Run?\n",
      "*** IntegrityError  --   08-11-2019_Championships Aren’t Won On Paper. But What If They Were?\n",
      "*** IntegrityError  --   11-11-2019_The Good, The Bad And The Weird Of NFL Week 10\n",
      "*** IntegrityError  --   11-11-2019_How To Improve The Conversation About Electability\n",
      "*** IntegrityError  --   11-11-2019_LeBron Is Great At Everything — Even Point Guard\n",
      "*** IntegrityError  --   11-11-2019_LeBron Is Great At Everything — Even Point Guard\n",
      "*** IntegrityError  --   08-11-2019_How Seriously Should We Take Michael Bloomberg’s Potential 2020 Run?\n",
      "*** IntegrityError  --   11-11-2019_Jeff Sessions Might Struggle To Win Back His Old Senate Seat\n",
      "*** IntegrityError  --   08-11-2019_Championships Aren’t Won On Paper. But What If They Were?\n",
      "*** IntegrityError  --   11-11-2019_Running For President May Make You More Unpopular In Your Home State\n",
      "*** IntegrityError  --   11-11-2019_The Good, The Bad And The Weird Of NFL Week 10\n",
      "*** IntegrityError  --   11-11-2019_How To Improve The Conversation About Electability\n"
     ]
    }
   ],
   "source": [
    "num_rejected = 0\n",
    "\n",
    "for index in range(data.shape[0]):\n",
    "    \n",
    "    one_rec = data.loc[[index]]\n",
    "    \n",
    "    try:\n",
    "        one_rec.to_sql(table_name, con=conn, if_exists='append', index=False)\n",
    "        pass\n",
    "    except sqlite3.IntegrityError as err:\n",
    "        print('*** IntegrityError  --  ', one_rec['PK_ID'][index])\n",
    "        num_rejected += 1\n",
    "    finally:\n",
    "        conn.commit()"
   ]
  },
  {
   "cell_type": "code",
   "execution_count": 6,
   "metadata": {},
   "outputs": [],
   "source": [
    "conn.execute('UPDATE ' + staging_table + ' SET PROCESSED = 1 WHERE PROCESSED = 0;')\n",
    "conn.commit()\n",
    "conn.close()"
   ]
  },
  {
   "cell_type": "markdown",
   "metadata": {},
   "source": [
    "### Summary"
   ]
  },
  {
   "cell_type": "code",
   "execution_count": 7,
   "metadata": {},
   "outputs": [
    {
     "name": "stdout",
     "output_type": "stream",
     "text": [
      "# of articles loaded:        51\n",
      "# of articles \"integrated\":  0\n",
      "# of articles rejected:      51\n"
     ]
    }
   ],
   "source": [
    "print('# of articles loaded:       ', data.shape[0])\n",
    "print('# of articles \"integrated\": ', data.shape[0] - num_rejected)\n",
    "print('# of articles rejected:     ', num_rejected)"
   ]
  },
  {
   "cell_type": "code",
   "execution_count": 8,
   "metadata": {},
   "outputs": [
    {
     "ename": "SystemExit",
     "evalue": "",
     "output_type": "error",
     "traceback": [
      "An exception has occurred, use %tb to see the full traceback.\n",
      "\u001b[1;31mSystemExit\u001b[0m\n"
     ]
    },
    {
     "name": "stderr",
     "output_type": "stream",
     "text": [
      "D:\\Programs\\Anaconda3\\lib\\site-packages\\IPython\\core\\interactiveshell.py:2889: UserWarning: To exit: use 'exit', 'quit', or Ctrl-D.\n",
      "  warn(\"To exit: use 'exit', 'quit', or Ctrl-D.\", stacklevel=1)\n"
     ]
    }
   ],
   "source": [
    "import sys\n",
    "sys.exit()"
   ]
  },
  {
   "cell_type": "markdown",
   "metadata": {},
   "source": [
    "# Write back to DB - à la M3O\n",
    "\n",
    "Does not really work  \n",
    "Does only work for all records"
   ]
  },
  {
   "cell_type": "code",
   "execution_count": null,
   "metadata": {},
   "outputs": [],
   "source": [
    "# INPUTS\n",
    "table_name = 'ARTICLES_538'"
   ]
  },
  {
   "cell_type": "code",
   "execution_count": null,
   "metadata": {},
   "outputs": [],
   "source": [
    "column_part = ', '.join(data.columns)\n",
    "value_part = ', '.join(['\"a\"']*14)"
   ]
  },
  {
   "cell_type": "code",
   "execution_count": null,
   "metadata": {},
   "outputs": [],
   "source": [
    "col_brackets = ['[' + items + ']' for items in data.columns]\n",
    "col_brackets = ','.join(col_brackets)\n",
    "col_brackets"
   ]
  },
  {
   "cell_type": "code",
   "execution_count": null,
   "metadata": {},
   "outputs": [],
   "source": [
    "placeholders = ['?' for items in data.columns]\n",
    "placeholders = ','.join(placeholders)\n",
    "placeholders"
   ]
  },
  {
   "cell_type": "code",
   "execution_count": null,
   "metadata": {},
   "outputs": [],
   "source": [
    "string_insert = \"INSERT INTO \" + table_name + \" (\" + col_brackets + \") VALUES (\"\n",
    "string_insert"
   ]
  },
  {
   "cell_type": "code",
   "execution_count": null,
   "metadata": {},
   "outputs": [],
   "source": [
    "for index, row in data.iterrows():\n",
    "    rows = [row[items].__str__() for items in data.columns]\n",
    "    rows = str(rows).replace(\"''\", 'null')\n",
    "    rows = rows[1:-1]\n",
    "    \n",
    "    string_insert_all = string_insert + rows + ');'\n",
    "    \n",
    "    try:\n",
    "        conn.execute(string_insert_all)\n",
    "        pass\n",
    "    except sqlite3.IntegrityError as err:\n",
    "        print('*** IntegrityError  --  ', row['PK_ID'])\n",
    "    finally:\n",
    "        conn.commit()"
   ]
  },
  {
   "cell_type": "code",
   "execution_count": null,
   "metadata": {},
   "outputs": [],
   "source": [
    "conn.execute(string_insert_all)"
   ]
  },
  {
   "cell_type": "code",
   "execution_count": null,
   "metadata": {},
   "outputs": [],
   "source": [
    "string_insert_all"
   ]
  },
  {
   "cell_type": "code",
   "execution_count": null,
   "metadata": {},
   "outputs": [],
   "source": []
  },
  {
   "cell_type": "code",
   "execution_count": null,
   "metadata": {},
   "outputs": [],
   "source": []
  }
 ],
 "metadata": {
  "kernelspec": {
   "display_name": "Python 3",
   "language": "python",
   "name": "python3"
  },
  "language_info": {
   "codemirror_mode": {
    "name": "ipython",
    "version": 3
   },
   "file_extension": ".py",
   "mimetype": "text/x-python",
   "name": "python",
   "nbconvert_exporter": "python",
   "pygments_lexer": "ipython3",
   "version": "3.6.6"
  }
 },
 "nbformat": 4,
 "nbformat_minor": 2
}
